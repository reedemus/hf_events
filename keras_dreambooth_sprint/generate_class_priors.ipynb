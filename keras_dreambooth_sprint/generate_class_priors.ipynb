{
  "cells": [
    {
      "cell_type": "code",
      "execution_count": null,
      "metadata": {
        "id": "lS37M6R9h7X6"
      },
      "outputs": [],
      "source": [
        "!pip install -q keras_cv"
      ]
    },
    {
      "cell_type": "code",
      "execution_count": null,
      "metadata": {
        "id": "ygttkaWeiuE2"
      },
      "outputs": [],
      "source": [
        "import tensorflow as tf \n",
        "import keras_cv\n",
        "\n",
        "tf.keras.mixed_precision.set_global_policy(\"mixed_float16\")\n",
        "model = keras_cv.models.StableDiffusion(img_width=512, img_height=512, jit_compile=True)"
      ]
    },
    {
      "cell_type": "code",
      "execution_count": null,
      "metadata": {
        "id": "czaYTOIOismu"
      },
      "outputs": [],
      "source": [
        "from tqdm import tqdm\n",
        "import numpy as np \n",
        "import hashlib\n",
        "import PIL \n",
        "import os\n",
        "\n",
        "class_images_dir = \"class-images\"\n",
        "os.makedirs(class_images_dir, exist_ok=True)\n",
        "\n",
        "class_prompt = \"a photo of dog\"\n",
        "negative_prompt = \"deformed, lowres, low quality, duplicate, ugly, bad anatomy, poorly drawn, mutation, out of frame, extra limbs, extra arms, extra legs, blurry\"\n",
        "\n",
        "num_imgs_to_generate = 200 \n",
        "for i in tqdm(range(num_imgs_to_generate)):\n",
        "    images = model.text_to_image(\n",
        "        class_prompt,\n",
        "        # negative_prompt,\n",
        "        batch_size=3,\n",
        "    )\n",
        "    idx = np.random.choice(len(images))\n",
        "    selected_image = PIL.Image.fromarray(images[idx])\n",
        "    \n",
        "    hash_image = hashlib.sha1(selected_image.tobytes()).hexdigest()\n",
        "    image_filename = os.path.join(class_images_dir, f\"{hash_image}.jpg\")\n",
        "    selected_image.save(image_filename)"
      ]
    },
    {
      "cell_type": "code",
      "execution_count": null,
      "metadata": {},
      "outputs": [],
      "source": [
        "# Compress to tar gzip file\n",
        "!tar -czvf class_images.tar.gz ./class-images"
      ]
    }
  ],
  "metadata": {
    "accelerator": "GPU",
    "colab": {
      "machine_shape": "hm",
      "provenance": []
    },
    "gpuClass": "premium",
    "kernelspec": {
      "display_name": "Python 3",
      "name": "python3"
    },
    "language_info": {
      "name": "python"
    }
  },
  "nbformat": 4,
  "nbformat_minor": 0
}
